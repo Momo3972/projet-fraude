{
 "cells": [
  {
   "cell_type": "code",
   "execution_count": 11,
   "id": "150ad52a",
   "metadata": {},
   "outputs": [
    {
     "name": "stdout",
     "output_type": "stream",
     "text": [
      "✅ Section 'Résultats comparatifs' mise à jour dans README.md\n"
     ]
    }
   ],
   "source": [
    "import json\n",
    "from pathlib import Path\n",
    "\n",
    "# === chemins ===\n",
    "metrics_path = Path(\"reports/metrics.json\")\n",
    "readme_path = Path(\"README.md\")\n",
    "\n",
    "# === lire les métriques ===\n",
    "if not metrics_path.exists():\n",
    "    raise FileNotFoundError(\"❌ Le fichier reports/metrics.json est introuvable.\")\n",
    "\n",
    "with open(metrics_path, \"r\", encoding=\"utf-8\") as f:\n",
    "    metrics = json.load(f)\n",
    "\n",
    "# === construire le tableau Markdown ===\n",
    "header = \"| Modèle | PR-AUC | ROC-AUC | Précision | Rappel | F1-score | Seuil |\\n\"\n",
    "header += \"|:--|--:|--:|--:|--:|--:|--:|\\n\"\n",
    "\n",
    "rows = []\n",
    "for model, values in metrics.items():\n",
    "    pr = values.get(\"pr_auc\", 0)\n",
    "    roc = values.get(\"roc_auc\", 0)\n",
    "    prec = values.get(\"precision\", 0)\n",
    "    rec = values.get(\"recall\", 0)\n",
    "    f1 = values.get(\"f1\", 0)\n",
    "    thr = values.get(\"threshold\", 0)\n",
    "    rows.append(f\"| {model} | {pr:.4f} | {roc:.4f} | {prec:.4f} | {rec:.4f} | {f1:.4f} | {thr:.3f} |\")\n",
    "\n",
    "table_md = \"## 📊 Résultats comparatifs\\n\\n\" + header + \"\\n\".join(rows) + \"\\n\\n\"\n",
    "\n",
    "# === lire README existant ===\n",
    "readme_text = readme_path.read_text(encoding=\"utf-8\")\n",
    "\n",
    "# === remplacer ou insérer la section ===\n",
    "import re\n",
    "pattern = r\"## 📊 Résultats comparatifs[\\s\\S]*?(?=\\n## |\\Z)\"\n",
    "if re.search(pattern, readme_text):\n",
    "    updated_text = re.sub(pattern, table_md.strip(), readme_text)\n",
    "else:\n",
    "    updated_text = readme_text.strip() + \"\\n\\n\" + table_md\n",
    "\n",
    "# === écrire le README mis à jour ===\n",
    "readme_path.write_text(updated_text, encoding=\"utf-8\")\n",
    "\n",
    "print(\"✅ Section 'Résultats comparatifs' mise à jour dans README.md\")"
   ]
  }
 ],
 "metadata": {
  "kernelspec": {
   "display_name": "base",
   "language": "python",
   "name": "python3"
  },
  "language_info": {
   "codemirror_mode": {
    "name": "ipython",
    "version": 3
   },
   "file_extension": ".py",
   "mimetype": "text/x-python",
   "name": "python",
   "nbconvert_exporter": "python",
   "pygments_lexer": "ipython3",
   "version": "3.12.7"
  }
 },
 "nbformat": 4,
 "nbformat_minor": 5
}
